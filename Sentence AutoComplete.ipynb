{
 "cells": [
  {
   "cell_type": "markdown",
   "metadata": {
    "id": "za1wQ3NtovnE"
   },
   "source": [
    "# LSTM Implementation"
   ]
  },
  {
   "cell_type": "markdown",
   "metadata": {
    "id": "i8uRuTygovnF"
   },
   "source": [
    "# **Text Preprocessing**"
   ]
  },
  {
   "cell_type": "code",
   "execution_count": 1,
   "metadata": {
    "id": "KHhiIFxlovnF"
   },
   "outputs": [],
   "source": [
    "import os\n",
    "import pandas as pd\n",
    "import numpy as np\n",
    "import tensorflow as tf\n",
    "from tensorflow.keras.preprocessing.sequence import pad_sequences\n",
    "from tensorflow.keras.layers import Embedding, LSTM, Dense, Bidirectional\n",
    "from tensorflow.keras.preprocessing.text import Tokenizer\n",
    "from tensorflow.keras.models import Sequential\n",
    "from tensorflow.keras.optimizers import Adam\n",
    "import nltk\n",
    "import re"
   ]
  },
  {
   "cell_type": "code",
   "execution_count": 2,
   "metadata": {
    "id": "B6RI4dW6ovnF"
   },
   "outputs": [],
   "source": [
    "# Specify the filename\n",
    "input_file = 'holmes.txt'\n",
    "\n",
    "# Read the contents of the file\n",
    "with open(input_file, 'r', encoding='utf-8') as infile:\n",
    "    data = infile.read()"
   ]
  },
  {
   "cell_type": "code",
   "execution_count": 3,
   "metadata": {
    "colab": {
     "base_uri": "https://localhost:8080/",
     "height": 35
    },
    "id": "frJE5FDGovnG",
    "outputId": "d565e2a9-7361-4a9b-8b0f-d2f43fdffc4c"
   },
   "outputs": [
    {
     "data": {
      "text/plain": [
       "\"*Project Gutenberg's Etext of Tom Swift And His Submarine Boat*\\n\\n#4 in the Victor Appleton's Tom Swi\""
      ]
     },
     "execution_count": 3,
     "metadata": {},
     "output_type": "execute_result"
    }
   ],
   "source": [
    "data[:100] # view first few characters"
   ]
  },
  {
   "cell_type": "code",
   "execution_count": 4,
   "metadata": {
    "id": "LlkSo3E4ovnG"
   },
   "outputs": [],
   "source": [
    "# Limit data to 500000 characters\n",
    "data = data[:500000]"
   ]
  },
  {
   "cell_type": "markdown",
   "metadata": {
    "id": "IIlbbasxovnG"
   },
   "source": [
    "# Clean Text"
   ]
  },
  {
   "cell_type": "code",
   "execution_count": 5,
   "metadata": {
    "id": "9Q_z0lDLovnG"
   },
   "outputs": [],
   "source": [
    "# Function to remove emojis and special characters from text\n",
    "def remove_emojis_and_special_characters(text):\n",
    "\n",
    "    # Remove special characters\n",
    "    text = re.sub(r'[^a-zA-Z0-9\\s]', '', text)\n",
    "\n",
    "    # Remove extra spaces\n",
    "    text = re.sub(' +', ' ', text)\n",
    "\n",
    "    return text"
   ]
  },
  {
   "cell_type": "code",
   "execution_count": 6,
   "metadata": {
    "id": "BtppYEjEovnG"
   },
   "outputs": [],
   "source": [
    "# Preprocessing pipeline\n",
    "def preprocess_pipeline(data) -> 'list':\n",
    "    # Split by newline character\n",
    "    sentences = data.split('\\n')\n",
    "    for i in range(len(sentences)):\n",
    "        sentences[i] = remove_emojis_and_special_characters(sentences[i])\n",
    "    # Remove leading and trailing spaces\n",
    "    sentences = [s.strip() for s in sentences]\n",
    "    # Drop empty sentences\n",
    "    sentences = [s for s in sentences if len(s) > 0]\n",
    "    # Tokenization\n",
    "    tokenized = []\n",
    "    for sentence in sentences:\n",
    "        # Convert to lowercase\n",
    "        sentence = sentence.lower()\n",
    "        tokenized.append(sentence)\n",
    "    return tokenized\n",
    "\n",
    "# Tokenize sentences\n",
    "tokenized_sentences = preprocess_pipeline(data)"
   ]
  },
  {
   "cell_type": "code",
   "execution_count": 7,
   "metadata": {
    "id": "vpTLfEKJovnH"
   },
   "outputs": [],
   "source": [
    "# Tokenize words\n",
    "tokenizer = Tokenizer(oov_token='<oov>')\n",
    "tokenizer.fit_on_texts(tokenized_sentences)\n",
    "total_words = len(tokenizer.word_index) + 1\n",
    "\n",
    "# Generate input sequences\n",
    "input_sequences = []\n",
    "for line in tokenized_sentences:\n",
    "    token_list = tokenizer.texts_to_sequences([line])[0]\n",
    "    for i in range(1, len(token_list)):\n",
    "        n_gram_sequence = token_list[:i + 1]\n",
    "        input_sequences.append(n_gram_sequence)\n",
    "\n",
    "# Pad sequences\n",
    "max_sequence_len = max([len(x) for x in input_sequences])\n",
    "input_sequences = np.array(pad_sequences(input_sequences, maxlen=max_sequence_len, padding='pre'))"
   ]
  },
  {
   "cell_type": "code",
   "execution_count": 8,
   "metadata": {
    "id": "NuDJqRCQovnH"
   },
   "outputs": [],
   "source": [
    "# Creates labels with input sequences\n",
    "X,labels = input_sequences[:,:-1],input_sequences[:,-1]\n",
    "ys = tf.keras.utils.to_categorical(labels, num_classes=total_words)"
   ]
  },
  {
   "cell_type": "code",
   "execution_count": 9,
   "metadata": {
    "execution": {
     "iopub.execute_input": "2024-04-11T05:32:13.168190Z",
     "iopub.status.busy": "2024-04-11T05:32:13.167751Z",
     "iopub.status.idle": "2024-04-11T05:32:20.041506Z",
     "shell.execute_reply": "2024-04-11T05:32:20.040383Z",
     "shell.execute_reply.started": "2024-04-11T05:32:13.168137Z"
    },
    "id": "gYkadQ8povnH"
   },
   "outputs": [],
   "source": [
    "# Split data into training, validation, and test sets\n",
    "from sklearn.model_selection import train_test_split\n",
    "X_train_temp, X_val_test, y_train_temp, y_val_test = train_test_split(X, ys, test_size=0.2, random_state=42)\n",
    "X_val, X_test, y_val, y_test = train_test_split(X_val_test, y_val_test, test_size=0.5, random_state=42)"
   ]
  },
  {
   "cell_type": "code",
   "execution_count": 10,
   "metadata": {
    "colab": {
     "base_uri": "https://localhost:8080/"
    },
    "id": "2dsU0rE9qH0J",
    "outputId": "be37b84e-4bf3-402c-e4b2-c80dbb4f741d"
   },
   "outputs": [
    {
     "data": {
      "text/plain": [
       "array([[   0,    0,    0, ...,    0,    0,  227],\n",
       "       [   0,    0,    0, ...,    0,    0, 1377],\n",
       "       [   0,    0,    0, ...,    0,    0, 1112],\n",
       "       ...,\n",
       "       [   0,    0,    0, ...,    0,    0,  108],\n",
       "       [   0,    0,    0, ...,    2,  716,  631],\n",
       "       [   0,    0,    0, ...,   27,    2,  699]])"
      ]
     },
     "execution_count": 10,
     "metadata": {},
     "output_type": "execute_result"
    }
   ],
   "source": [
    "X_train_temp"
   ]
  },
  {
   "cell_type": "markdown",
   "metadata": {
    "id": "wqDmS2zbovnH"
   },
   "source": [
    "# Train LSTM Model"
   ]
  },
  {
   "cell_type": "code",
   "execution_count": 11,
   "metadata": {
    "colab": {
     "base_uri": "https://localhost:8080/"
    },
    "execution": {
     "iopub.execute_input": "2024-04-11T06:50:19.346868Z",
     "iopub.status.busy": "2024-04-11T06:50:19.345839Z",
     "iopub.status.idle": "2024-04-11T07:17:23.071736Z",
     "shell.execute_reply": "2024-04-11T07:17:23.070573Z",
     "shell.execute_reply.started": "2024-04-11T06:50:19.346830Z"
    },
    "id": "REoir2kmovnH",
    "outputId": "61526632-3697-45ba-a2c2-be012d62fe89"
   },
   "outputs": [
    {
     "name": "stdout",
     "output_type": "stream",
     "text": [
      "Epoch 1/50\n",
      "\u001b[1m2002/2002\u001b[0m \u001b[32m━━━━━━━━━━━━━━━━━━━━\u001b[0m\u001b[37m\u001b[0m \u001b[1m64s\u001b[0m 30ms/step - accuracy: 0.0967 - loss: 6.2964 - val_accuracy: 0.1408 - val_loss: 5.6287\n",
      "Epoch 2/50\n",
      "\u001b[1m2002/2002\u001b[0m \u001b[32m━━━━━━━━━━━━━━━━━━━━\u001b[0m\u001b[37m\u001b[0m \u001b[1m61s\u001b[0m 30ms/step - accuracy: 0.1535 - loss: 5.1443 - val_accuracy: 0.1533 - val_loss: 5.6057\n",
      "Epoch 3/50\n",
      "\u001b[1m2002/2002\u001b[0m \u001b[32m━━━━━━━━━━━━━━━━━━━━\u001b[0m\u001b[37m\u001b[0m \u001b[1m59s\u001b[0m 30ms/step - accuracy: 0.1807 - loss: 4.6468 - val_accuracy: 0.1544 - val_loss: 5.7105\n",
      "Epoch 4/50\n",
      "\u001b[1m2002/2002\u001b[0m \u001b[32m━━━━━━━━━━━━━━━━━━━━\u001b[0m\u001b[37m\u001b[0m \u001b[1m59s\u001b[0m 30ms/step - accuracy: 0.1997 - loss: 4.2729 - val_accuracy: 0.1526 - val_loss: 5.9239\n",
      "Epoch 5/50\n",
      "\u001b[1m2002/2002\u001b[0m \u001b[32m━━━━━━━━━━━━━━━━━━━━\u001b[0m\u001b[37m\u001b[0m \u001b[1m59s\u001b[0m 30ms/step - accuracy: 0.2115 - loss: 4.0411 - val_accuracy: 0.1574 - val_loss: 6.1142\n",
      "Epoch 6/50\n",
      "\u001b[1m2002/2002\u001b[0m \u001b[32m━━━━━━━━━━━━━━━━━━━━\u001b[0m\u001b[37m\u001b[0m \u001b[1m59s\u001b[0m 30ms/step - accuracy: 0.2308 - loss: 3.8508 - val_accuracy: 0.1554 - val_loss: 6.3586\n",
      "Epoch 7/50\n",
      "\u001b[1m2002/2002\u001b[0m \u001b[32m━━━━━━━━━━━━━━━━━━━━\u001b[0m\u001b[37m\u001b[0m \u001b[1m60s\u001b[0m 30ms/step - accuracy: 0.2374 - loss: 3.7057 - val_accuracy: 0.1539 - val_loss: 6.5819\n",
      "Epoch 8/50\n",
      "\u001b[1m2002/2002\u001b[0m \u001b[32m━━━━━━━━━━━━━━━━━━━━\u001b[0m\u001b[37m\u001b[0m \u001b[1m60s\u001b[0m 30ms/step - accuracy: 0.2549 - loss: 3.6130 - val_accuracy: 0.1560 - val_loss: 6.7984\n",
      "Epoch 9/50\n",
      "\u001b[1m2002/2002\u001b[0m \u001b[32m━━━━━━━━━━━━━━━━━━━━\u001b[0m\u001b[37m\u001b[0m \u001b[1m60s\u001b[0m 30ms/step - accuracy: 0.2564 - loss: 3.5535 - val_accuracy: 0.1426 - val_loss: 7.0219\n",
      "Epoch 10/50\n",
      "\u001b[1m2002/2002\u001b[0m \u001b[32m━━━━━━━━━━━━━━━━━━━━\u001b[0m\u001b[37m\u001b[0m \u001b[1m61s\u001b[0m 30ms/step - accuracy: 0.2579 - loss: 3.5709 - val_accuracy: 0.1470 - val_loss: 7.1755\n",
      "Epoch 11/50\n",
      "\u001b[1m2002/2002\u001b[0m \u001b[32m━━━━━━━━━━━━━━━━━━━━\u001b[0m\u001b[37m\u001b[0m \u001b[1m82s\u001b[0m 30ms/step - accuracy: 0.2630 - loss: 3.4693 - val_accuracy: 0.1439 - val_loss: 7.3242\n",
      "Epoch 12/50\n",
      "\u001b[1m2002/2002\u001b[0m \u001b[32m━━━━━━━━━━━━━━━━━━━━\u001b[0m\u001b[37m\u001b[0m \u001b[1m60s\u001b[0m 30ms/step - accuracy: 0.2703 - loss: 3.4239 - val_accuracy: 0.1450 - val_loss: 7.5327\n",
      "Epoch 13/50\n",
      "\u001b[1m2002/2002\u001b[0m \u001b[32m━━━━━━━━━━━━━━━━━━━━\u001b[0m\u001b[37m\u001b[0m \u001b[1m60s\u001b[0m 30ms/step - accuracy: 0.2735 - loss: 3.3901 - val_accuracy: 0.1428 - val_loss: 7.6836\n",
      "Epoch 14/50\n",
      "\u001b[1m2002/2002\u001b[0m \u001b[32m━━━━━━━━━━━━━━━━━━━━\u001b[0m\u001b[37m\u001b[0m \u001b[1m59s\u001b[0m 29ms/step - accuracy: 0.2713 - loss: 3.4025 - val_accuracy: 0.1429 - val_loss: 7.8289\n",
      "Epoch 15/50\n",
      "\u001b[1m2002/2002\u001b[0m \u001b[32m━━━━━━━━━━━━━━━━━━━━\u001b[0m\u001b[37m\u001b[0m \u001b[1m58s\u001b[0m 29ms/step - accuracy: 0.2775 - loss: 3.3663 - val_accuracy: 0.1425 - val_loss: 7.9696\n",
      "Epoch 16/50\n",
      "\u001b[1m2002/2002\u001b[0m \u001b[32m━━━━━━━━━━━━━━━━━━━━\u001b[0m\u001b[37m\u001b[0m \u001b[1m57s\u001b[0m 29ms/step - accuracy: 0.2783 - loss: 3.3841 - val_accuracy: 0.1458 - val_loss: 8.1063\n",
      "Epoch 17/50\n",
      "\u001b[1m2002/2002\u001b[0m \u001b[32m━━━━━━━━━━━━━━━━━━━━\u001b[0m\u001b[37m\u001b[0m \u001b[1m57s\u001b[0m 29ms/step - accuracy: 0.2724 - loss: 3.4012 - val_accuracy: 0.1401 - val_loss: 8.2564\n",
      "Epoch 18/50\n",
      "\u001b[1m2002/2002\u001b[0m \u001b[32m━━━━━━━━━━━━━━━━━━━━\u001b[0m\u001b[37m\u001b[0m \u001b[1m57s\u001b[0m 28ms/step - accuracy: 0.2818 - loss: 3.3480 - val_accuracy: 0.1450 - val_loss: 8.3192\n",
      "Epoch 19/50\n",
      "\u001b[1m2002/2002\u001b[0m \u001b[32m━━━━━━━━━━━━━━━━━━━━\u001b[0m\u001b[37m\u001b[0m \u001b[1m57s\u001b[0m 29ms/step - accuracy: 0.2837 - loss: 3.3322 - val_accuracy: 0.1430 - val_loss: 8.4518\n",
      "Epoch 20/50\n",
      "\u001b[1m2002/2002\u001b[0m \u001b[32m━━━━━━━━━━━━━━━━━━━━\u001b[0m\u001b[37m\u001b[0m \u001b[1m58s\u001b[0m 29ms/step - accuracy: 0.2834 - loss: 3.3348 - val_accuracy: 0.1401 - val_loss: 8.5485\n",
      "Epoch 21/50\n",
      "\u001b[1m2002/2002\u001b[0m \u001b[32m━━━━━━━━━━━━━━━━━━━━\u001b[0m\u001b[37m\u001b[0m \u001b[1m57s\u001b[0m 29ms/step - accuracy: 0.2808 - loss: 3.3633 - val_accuracy: 0.1409 - val_loss: 8.6351\n",
      "Epoch 22/50\n",
      "\u001b[1m2002/2002\u001b[0m \u001b[32m━━━━━━━━━━━━━━━━━━━━\u001b[0m\u001b[37m\u001b[0m \u001b[1m57s\u001b[0m 29ms/step - accuracy: 0.2876 - loss: 3.3027 - val_accuracy: 0.1396 - val_loss: 8.7746\n",
      "Epoch 23/50\n",
      "\u001b[1m2002/2002\u001b[0m \u001b[32m━━━━━━━━━━━━━━━━━━━━\u001b[0m\u001b[37m\u001b[0m \u001b[1m57s\u001b[0m 29ms/step - accuracy: 0.2931 - loss: 3.2795 - val_accuracy: 0.1379 - val_loss: 8.9532\n",
      "Epoch 24/50\n",
      "\u001b[1m2002/2002\u001b[0m \u001b[32m━━━━━━━━━━━━━━━━━━━━\u001b[0m\u001b[37m\u001b[0m \u001b[1m57s\u001b[0m 29ms/step - accuracy: 0.2776 - loss: 3.3600 - val_accuracy: 0.1351 - val_loss: 9.0402\n",
      "Epoch 25/50\n",
      "\u001b[1m2002/2002\u001b[0m \u001b[32m━━━━━━━━━━━━━━━━━━━━\u001b[0m\u001b[37m\u001b[0m \u001b[1m62s\u001b[0m 31ms/step - accuracy: 0.2879 - loss: 3.3062 - val_accuracy: 0.1425 - val_loss: 9.0686\n",
      "Epoch 26/50\n",
      "\u001b[1m2002/2002\u001b[0m \u001b[32m━━━━━━━━━━━━━━━━━━━━\u001b[0m\u001b[37m\u001b[0m \u001b[1m63s\u001b[0m 31ms/step - accuracy: 0.2841 - loss: 3.3041 - val_accuracy: 0.1381 - val_loss: 9.1870\n",
      "Epoch 27/50\n",
      "\u001b[1m2002/2002\u001b[0m \u001b[32m━━━━━━━━━━━━━━━━━━━━\u001b[0m\u001b[37m\u001b[0m \u001b[1m62s\u001b[0m 31ms/step - accuracy: 0.2872 - loss: 3.2857 - val_accuracy: 0.1378 - val_loss: 9.1776\n",
      "Epoch 28/50\n",
      "\u001b[1m2002/2002\u001b[0m \u001b[32m━━━━━━━━━━━━━━━━━━━━\u001b[0m\u001b[37m\u001b[0m \u001b[1m61s\u001b[0m 31ms/step - accuracy: 0.2905 - loss: 3.2969 - val_accuracy: 0.1299 - val_loss: 9.3408\n",
      "Epoch 29/50\n",
      "\u001b[1m2002/2002\u001b[0m \u001b[32m━━━━━━━━━━━━━━━━━━━━\u001b[0m\u001b[37m\u001b[0m \u001b[1m84s\u001b[0m 32ms/step - accuracy: 0.2810 - loss: 3.3711 - val_accuracy: 0.1401 - val_loss: 9.4289\n",
      "Epoch 30/50\n",
      "\u001b[1m2002/2002\u001b[0m \u001b[32m━━━━━━━━━━━━━━━━━━━━\u001b[0m\u001b[37m\u001b[0m \u001b[1m64s\u001b[0m 32ms/step - accuracy: 0.2864 - loss: 3.3579 - val_accuracy: 0.1348 - val_loss: 9.5630\n",
      "Epoch 31/50\n",
      "\u001b[1m2002/2002\u001b[0m \u001b[32m━━━━━━━━━━━━━━━━━━━━\u001b[0m\u001b[37m\u001b[0m \u001b[1m63s\u001b[0m 31ms/step - accuracy: 0.2881 - loss: 3.3409 - val_accuracy: 0.1277 - val_loss: 9.6635\n",
      "Epoch 32/50\n",
      "\u001b[1m2002/2002\u001b[0m \u001b[32m━━━━━━━━━━━━━━━━━━━━\u001b[0m\u001b[37m\u001b[0m \u001b[1m63s\u001b[0m 31ms/step - accuracy: 0.2881 - loss: 3.3346 - val_accuracy: 0.1319 - val_loss: 9.6974\n",
      "Epoch 33/50\n",
      "\u001b[1m2002/2002\u001b[0m \u001b[32m━━━━━━━━━━━━━━━━━━━━\u001b[0m\u001b[37m\u001b[0m \u001b[1m83s\u001b[0m 31ms/step - accuracy: 0.2837 - loss: 3.3520 - val_accuracy: 0.1335 - val_loss: 9.8008\n",
      "Epoch 34/50\n",
      "\u001b[1m2002/2002\u001b[0m \u001b[32m━━━━━━━━━━━━━━━━━━━━\u001b[0m\u001b[37m\u001b[0m \u001b[1m62s\u001b[0m 31ms/step - accuracy: 0.2877 - loss: 3.3266 - val_accuracy: 0.1327 - val_loss: 9.9172\n",
      "Epoch 35/50\n",
      "\u001b[1m2002/2002\u001b[0m \u001b[32m━━━━━━━━━━━━━━━━━━━━\u001b[0m\u001b[37m\u001b[0m \u001b[1m63s\u001b[0m 31ms/step - accuracy: 0.2835 - loss: 3.3603 - val_accuracy: 0.1341 - val_loss: 9.9500\n",
      "Epoch 36/50\n",
      "\u001b[1m2002/2002\u001b[0m \u001b[32m━━━━━━━━━━━━━━━━━━━━\u001b[0m\u001b[37m\u001b[0m \u001b[1m63s\u001b[0m 31ms/step - accuracy: 0.2872 - loss: 3.3344 - val_accuracy: 0.1319 - val_loss: 10.0283\n",
      "Epoch 37/50\n",
      "\u001b[1m2002/2002\u001b[0m \u001b[32m━━━━━━━━━━━━━━━━━━━━\u001b[0m\u001b[37m\u001b[0m \u001b[1m82s\u001b[0m 31ms/step - accuracy: 0.2895 - loss: 3.3156 - val_accuracy: 0.1396 - val_loss: 10.1485\n",
      "Epoch 38/50\n",
      "\u001b[1m2002/2002\u001b[0m \u001b[32m━━━━━━━━━━━━━━━━━━━━\u001b[0m\u001b[37m\u001b[0m \u001b[1m63s\u001b[0m 31ms/step - accuracy: 0.2898 - loss: 3.3129 - val_accuracy: 0.1300 - val_loss: 10.2795\n",
      "Epoch 39/50\n",
      "\u001b[1m2002/2002\u001b[0m \u001b[32m━━━━━━━━━━━━━━━━━━━━\u001b[0m\u001b[37m\u001b[0m \u001b[1m63s\u001b[0m 32ms/step - accuracy: 0.2934 - loss: 3.3121 - val_accuracy: 0.1390 - val_loss: 10.3325\n",
      "Epoch 40/50\n",
      "\u001b[1m2002/2002\u001b[0m \u001b[32m━━━━━━━━━━━━━━━━━━━━\u001b[0m\u001b[37m\u001b[0m \u001b[1m63s\u001b[0m 32ms/step - accuracy: 0.2883 - loss: 3.3117 - val_accuracy: 0.1355 - val_loss: 10.4073\n",
      "Epoch 41/50\n",
      "\u001b[1m2002/2002\u001b[0m \u001b[32m━━━━━━━━━━━━━━━━━━━━\u001b[0m\u001b[37m\u001b[0m \u001b[1m63s\u001b[0m 31ms/step - accuracy: 0.2946 - loss: 3.2805 - val_accuracy: 0.1348 - val_loss: 10.5125\n",
      "Epoch 42/50\n",
      "\u001b[1m2002/2002\u001b[0m \u001b[32m━━━━━━━━━━━━━━━━━━━━\u001b[0m\u001b[37m\u001b[0m \u001b[1m63s\u001b[0m 32ms/step - accuracy: 0.2971 - loss: 3.2798 - val_accuracy: 0.1388 - val_loss: 10.6326\n",
      "Epoch 43/50\n",
      "\u001b[1m2002/2002\u001b[0m \u001b[32m━━━━━━━━━━━━━━━━━━━━\u001b[0m\u001b[37m\u001b[0m \u001b[1m64s\u001b[0m 32ms/step - accuracy: 0.2976 - loss: 3.2607 - val_accuracy: 0.1309 - val_loss: 10.7270\n",
      "Epoch 44/50\n",
      "\u001b[1m2002/2002\u001b[0m \u001b[32m━━━━━━━━━━━━━━━━━━━━\u001b[0m\u001b[37m\u001b[0m \u001b[1m63s\u001b[0m 31ms/step - accuracy: 0.2964 - loss: 3.2600 - val_accuracy: 0.1370 - val_loss: 10.7125\n",
      "Epoch 45/50\n",
      "\u001b[1m2002/2002\u001b[0m \u001b[32m━━━━━━━━━━━━━━━━━━━━\u001b[0m\u001b[37m\u001b[0m \u001b[1m64s\u001b[0m 32ms/step - accuracy: 0.2973 - loss: 3.2647 - val_accuracy: 0.1373 - val_loss: 10.8686\n",
      "Epoch 46/50\n",
      "\u001b[1m2002/2002\u001b[0m \u001b[32m━━━━━━━━━━━━━━━━━━━━\u001b[0m\u001b[37m\u001b[0m \u001b[1m64s\u001b[0m 32ms/step - accuracy: 0.3010 - loss: 3.2408 - val_accuracy: 0.1338 - val_loss: 10.9029\n",
      "Epoch 47/50\n",
      "\u001b[1m2002/2002\u001b[0m \u001b[32m━━━━━━━━━━━━━━━━━━━━\u001b[0m\u001b[37m\u001b[0m \u001b[1m66s\u001b[0m 33ms/step - accuracy: 0.3035 - loss: 3.2455 - val_accuracy: 0.1317 - val_loss: 10.9590\n",
      "Epoch 48/50\n",
      "\u001b[1m2002/2002\u001b[0m \u001b[32m━━━━━━━━━━━━━━━━━━━━\u001b[0m\u001b[37m\u001b[0m \u001b[1m64s\u001b[0m 32ms/step - accuracy: 0.2971 - loss: 3.2756 - val_accuracy: 0.1345 - val_loss: 10.9551\n",
      "Epoch 49/50\n",
      "\u001b[1m2002/2002\u001b[0m \u001b[32m━━━━━━━━━━━━━━━━━━━━\u001b[0m\u001b[37m\u001b[0m \u001b[1m64s\u001b[0m 32ms/step - accuracy: 0.3058 - loss: 3.2381 - val_accuracy: 0.1323 - val_loss: 11.0943\n",
      "Epoch 50/50\n"
     ]
    },
    {
     "name": "stdout",
     "output_type": "stream",
     "text": [
      "\u001b[1m2002/2002\u001b[0m \u001b[32m━━━━━━━━━━━━━━━━━━━━\u001b[0m\u001b[37m\u001b[0m \u001b[1m60s\u001b[0m 30ms/step - accuracy: 0.3049 - loss: 3.2499 - val_accuracy: 0.1329 - val_loss: 11.1217\n"
     ]
    }
   ],
   "source": [
    "# Define your model\n",
    "model = Sequential()\n",
    "model.add(Embedding(total_words, 100))\n",
    "model.add(Bidirectional(LSTM(150)))\n",
    "model.add(Dense(total_words, activation='softmax'))\n",
    "\n",
    "adam = Adam(learning_rate=0.01)\n",
    "model.compile(loss='categorical_crossentropy', optimizer=adam, metrics=['accuracy'])\n",
    "\n",
    "# Train the model\n",
    "history = model.fit(X_train_temp, y_train_temp, epochs=50, validation_data=(X_val, y_val), verbose=1)"
   ]
  },
  {
   "cell_type": "markdown",
   "metadata": {
    "id": "QFcNkYOFovnI"
   },
   "source": [
    "# Save Models (Weights and biases)"
   ]
  },
  {
   "cell_type": "code",
   "execution_count": 12,
   "metadata": {
    "execution": {
     "iopub.execute_input": "2024-04-11T07:17:23.074643Z",
     "iopub.status.busy": "2024-04-11T07:17:23.074319Z",
     "iopub.status.idle": "2024-04-11T07:17:23.216893Z",
     "shell.execute_reply": "2024-04-11T07:17:23.215911Z",
     "shell.execute_reply.started": "2024-04-11T07:17:23.074617Z"
    },
    "id": "1T9K62s8ovnI"
   },
   "outputs": [],
   "source": [
    "# Save model architecture as JSON file\n",
    "from tensorflow.keras.models import model_from_json\n",
    "\n",
    "model_json = model.to_json()\n",
    "with open(\"lstm_model1.json\", \"w\") as json_file:\n",
    "    json_file.write(model_json)"
   ]
  },
  {
   "cell_type": "code",
   "execution_count": 13,
   "metadata": {
    "colab": {
     "base_uri": "https://localhost:8080/"
    },
    "id": "JqbtR1vWovnI",
    "outputId": "47bd0fc2-928e-43fd-c216-15eeff6d84d3"
   },
   "outputs": [
    {
     "name": "stdout",
     "output_type": "stream",
     "text": [
      "Model architecture loaded successfully from JSON file.\n"
     ]
    }
   ],
   "source": [
    "# Load model architecture from JSON file\n",
    "from tensorflow.keras.models import model_from_json\n",
    "\n",
    "with open(\"lstm_model1.json\", \"r\") as json_file:\n",
    "    loaded_model_json = json_file.read()\n",
    "\n",
    "# Create model from loaded architecture\n",
    "loaded_model = model_from_json(loaded_model_json)\n",
    "\n",
    "print(\"Model architecture loaded successfully from JSON file.\")"
   ]
  },
  {
   "cell_type": "code",
   "execution_count": 14,
   "metadata": {
    "execution": {
     "iopub.execute_input": "2024-04-11T06:04:13.104775Z",
     "iopub.status.busy": "2024-04-11T06:04:13.104349Z",
     "iopub.status.idle": "2024-04-11T06:04:13.406339Z",
     "shell.execute_reply": "2024-04-11T06:04:13.404737Z",
     "shell.execute_reply.started": "2024-04-11T06:04:13.104743Z"
    },
    "id": "M1grm6yDovnI"
   },
   "outputs": [],
   "source": [
    "import matplotlib.pyplot as plt\n",
    "import seaborn as sns\n",
    "from sklearn.metrics import confusion_matrix\n"
   ]
  },
  {
   "cell_type": "code",
   "execution_count": 15,
   "metadata": {
    "colab": {
     "base_uri": "https://localhost:8080/",
     "height": 927
    },
    "execution": {
     "iopub.execute_input": "2024-04-11T06:04:14.332289Z",
     "iopub.status.busy": "2024-04-11T06:04:14.331600Z",
     "iopub.status.idle": "2024-04-11T06:04:15.028083Z",
     "shell.execute_reply": "2024-04-11T06:04:15.026976Z",
     "shell.execute_reply.started": "2024-04-11T06:04:14.332254Z"
    },
    "id": "i52TM4wWovnI",
    "outputId": "22c7b66b-3659-4f6b-aef6-2f50b8312de1"
   },
   "outputs": [
    {
     "data": {
      "image/png": "[encoded data removed]",
      "text/plain": [
       "<Figure size 640x480 with 1 Axes>"
      ]
     },
     "metadata": {},
     "output_type": "display_data"
    },
    {
     "data": {
      "image/png": "[encoded data removed]",
      "text/plain": [
       "<Figure size 640x480 with 1 Axes>"
      ]
     },
     "metadata": {},
     "output_type": "display_data"
    }
   ],
   "source": [
    "\n",
    "# Plot Loss\n",
    "plt.plot(history.history['loss'], label='Training Loss')\n",
    "plt.plot(history.history['val_loss'], label='Validation Loss')\n",
    "plt.title('Training and Validation Loss')\n",
    "plt.xlabel('Epochs')\n",
    "plt.ylabel('Loss')\n",
    "plt.legend()\n",
    "plt.show()\n",
    "\n",
    "# Plot Accuracy\n",
    "plt.plot(history.history['accuracy'], label='Training Accuracy')\n",
    "plt.plot(history.history['val_accuracy'], label='Validation Accuracy')\n",
    "plt.title('Training and Validation Accuracy')\n",
    "plt.xlabel('Epochs')\n",
    "plt.ylabel('Accuracy')\n",
    "plt.legend()\n",
    "plt.show()\n"
   ]
  },
  {
   "cell_type": "markdown",
   "metadata": {
    "id": "-4olQ0bjovnI"
   },
   "source": [
    "# Inferences"
   ]
  },
  {
   "cell_type": "code",
   "execution_count": 16,
   "metadata": {
    "id": "CKxeFUpWwYwI"
   },
   "outputs": [],
   "source": [
    "from IPython.display import display, HTML\n",
    "import numpy as np\n",
    "from tensorflow.keras.preprocessing.sequence import pad_sequences\n",
    "\n",
    "def predict_top_five_words(model, tokenizer, seed_text):\n",
    "    token_list = tokenizer.texts_to_sequences([seed_text])[0]\n",
    "    token_list = pad_sequences([token_list], maxlen=max_sequence_len-1, padding='pre')\n",
    "    predicted = model.predict(token_list, verbose=0)\n",
    "    top_five_indexes = np.argsort(predicted[0])[::-1][:5]\n",
    "    top_five_words = [tokenizer.index_word[index] for index in top_five_indexes if index in tokenizer.index_word]\n",
    "    return top_five_words\n",
    "\n",
    "def predict_and_display_top_five_words(seed_text, model, tokenizer):\n",
    "    top_five_words = predict_top_five_words(model, tokenizer, seed_text)\n",
    "    heading_app = \"<h1>Sentence AutoCompletion App With Five Outputs</h1>\"\n",
    "    output_text = \"<ul>\" + \"\".join([f\"<li>{seed_text} {word}</li>\" for word in top_five_words]) + \"</ul>\"\n",
    "    display(HTML(f\"{heading_app}<br><hr>{output_text}\"))\n"
   ]
  },
  {
   "cell_type": "code",
   "execution_count": 17,
   "metadata": {
    "colab": {
     "base_uri": "https://localhost:8080/",
     "height": 201
    },
    "execution": {
     "iopub.execute_input": "2024-04-11T07:22:36.745099Z",
     "iopub.status.busy": "2024-04-11T07:22:36.744339Z",
     "iopub.status.idle": "2024-04-11T07:22:36.822230Z",
     "shell.execute_reply": "2024-04-11T07:22:36.821207Z",
     "shell.execute_reply.started": "2024-04-11T07:22:36.745061Z"
    },
    "id": "sJDwFY5UovnJ",
    "outputId": "051e4b49-d735-4f23-a8e2-fa56a3939e31"
   },
   "outputs": [
    {
     "data": {
      "text/html": [
       "<h1>Sentence AutoCompletion App With Five Outputs</h1><br><hr><ul><li>i am akash i am data scientist i was shooting</li><li>i am akash i am data scientist i was umbrella</li><li>i am akash i am data scientist i was provision</li><li>i am akash i am data scientist i was corn</li><li>i am akash i am data scientist i was enjoy</li></ul>"
      ],
      "text/plain": [
       "<IPython.core.display.HTML object>"
      ]
     },
     "metadata": {},
     "output_type": "display_data"
    }
   ],
   "source": [
    "# Test the function\n",
    "seed_text = \"i am akash i am data scientist i was\"\n",
    "predict_and_display_top_five_words(seed_text, loaded_model, tokenizer)"
   ]
  },
  {
   "cell_type": "code",
   "execution_count": 18,
   "metadata": {
    "colab": {
     "base_uri": "https://localhost:8080/",
     "height": 201
    },
    "execution": {
     "iopub.execute_input": "2024-04-11T06:32:59.206205Z",
     "iopub.status.busy": "2024-04-11T06:32:59.205113Z",
     "iopub.status.idle": "2024-04-11T06:32:59.281620Z",
     "shell.execute_reply": "2024-04-11T06:32:59.280559Z",
     "shell.execute_reply.started": "2024-04-11T06:32:59.206146Z"
    },
    "id": "8w2JRGdNovnJ",
    "outputId": "c5b45975-0a69-4528-d876-fc3ddd327c75"
   },
   "outputs": [
    {
     "data": {
      "text/html": [
       "<h1>Sentence AutoCompletion App With Five Outputs</h1><br><hr><ul><li>Sorry sir, it happens by mistakely, I'm giving you access right now equal</li><li>Sorry sir, it happens by mistakely, I'm giving you access right now represent</li><li>Sorry sir, it happens by mistakely, I'm giving you access right now provision</li><li>Sorry sir, it happens by mistakely, I'm giving you access right now space</li><li>Sorry sir, it happens by mistakely, I'm giving you access right now enjoy</li></ul>"
      ],
      "text/plain": [
       "<IPython.core.display.HTML object>"
      ]
     },
     "metadata": {},
     "output_type": "display_data"
    }
   ],
   "source": [
    "# Test 2:\n",
    "# Test the function\n",
    "seed_text = \"Sorry sir, it happens by mistakely, I'm giving you access right now\"\n",
    "predict_and_display_top_five_words(seed_text, loaded_model, tokenizer)"
   ]
  },
  {
   "cell_type": "code",
   "execution_count": null,
   "metadata": {
    "id": "nLqUpnXR1ZDh"
   },
   "outputs": [],
   "source": []
  }
 ],
 "metadata": {
  "accelerator": "GPU",
  "colab": {
   "gpuType": "T4",
   "include_colab_link": true,
   "provenance": []
  },
  "kaggle": {
   "accelerator": "gpu",
   "dataSources": [
    {
     "datasetId": 4758440,
     "sourceId": 8065627,
     "sourceType": "datasetVersion"
    },
    {
     "datasetId": 4758543,
     "sourceId": 8065761,
     "sourceType": "datasetVersion"
    },
    {
     "datasetId": 4759977,
     "sourceId": 8067728,
     "sourceType": "datasetVersion"
    }
   ],
   "dockerImageVersionId": 30674,
   "isGpuEnabled": true,
   "isInternetEnabled": true,
   "language": "python",
   "sourceType": "notebook"
  },
  "kernelspec": {
   "display_name": "Python 3 (ipykernel)",
   "language": "python",
   "name": "python3"
  },
  "language_info": {
   "codemirror_mode": {
    "name": "ipython",
    "version": 3
   },
   "file_extension": ".py",
   "mimetype": "text/x-python",
   "name": "python",
   "nbconvert_exporter": "python",
   "pygments_lexer": "ipython3",
   "version": "3.9.13"
  }
 },
 "nbformat": 4,
 "nbformat_minor": 1
}
